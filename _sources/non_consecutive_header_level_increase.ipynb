{
 "cells": [
  {
   "cell_type": "markdown",
   "id": "eadf9a9b",
   "metadata": {},
   "source": [
    "# Title\n",
    "\n",
    "## Subtitle 1"
   ]
  },
  {
   "cell_type": "code",
   "execution_count": 1,
   "id": "29354518",
   "metadata": {},
   "outputs": [
    {
     "data": {
      "text/markdown": [
       "## Subtitle 2"
      ],
      "text/plain": [
       "<IPython.core.display.Markdown object>"
      ]
     },
     "metadata": {},
     "output_type": "display_data"
    }
   ],
   "source": [
    "from IPython.display import display, Markdown\n",
    "display(Markdown(f\"## Subtitle 2\"))"
   ]
  }
 ],
 "metadata": {
  "jupytext": {
   "formats": "md:myst",
   "text_representation": {
    "extension": ".md",
    "format_name": "myst",
    "format_version": 0.13,
    "jupytext_version": "1.11.5"
   }
  },
  "kernelspec": {
   "display_name": "itables",
   "language": "python",
   "name": "itables"
  },
  "language_info": {
   "codemirror_mode": {
    "name": "ipython",
    "version": 3
   },
   "file_extension": ".py",
   "mimetype": "text/x-python",
   "name": "python",
   "nbconvert_exporter": "python",
   "pygments_lexer": "ipython3",
   "version": "3.9.7"
  },
  "source_map": [
   13,
   19
  ]
 },
 "nbformat": 4,
 "nbformat_minor": 5
}